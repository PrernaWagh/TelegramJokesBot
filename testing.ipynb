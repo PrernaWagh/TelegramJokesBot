{
 "cells": [
  {
   "cell_type": "code",
   "execution_count": 1,
   "id": "a1970de2",
   "metadata": {},
   "outputs": [
    {
     "data": {
      "text/plain": [
       "<function dotenv.main.load_dotenv(dotenv_path: Union[str, ForwardRef('os.PathLike[str]'), NoneType] = None, stream: Optional[IO[str]] = None, verbose: bool = False, override: bool = False, interpolate: bool = True, encoding: Optional[str] = 'utf-8') -> bool>"
      ]
     },
     "execution_count": 1,
     "metadata": {},
     "output_type": "execute_result"
    }
   ],
   "source": [
    "#testing LLM model\n",
    "import os\n",
    "from dotenv import load_dotenv   #load environemnt variables\n",
    "load_dotenv"
   ]
  },
  {
   "cell_type": "code",
   "execution_count": 2,
   "id": "8beb9fbd",
   "metadata": {},
   "outputs": [],
   "source": [
    "os.environ[\"LANGCHAIN_API_KEY\"] = os.getenv(\"LANGCHAIN_API_KEY\")\n",
    "os.environ[\"GROQ_API_KEY\"] = os.getenv(\"GROQ_API_KEY\")\n"
   ]
  },
  {
   "cell_type": "code",
   "execution_count": null,
   "id": "bb0eabec",
   "metadata": {},
   "outputs": [],
   "source": [
    "from langchain_groq import ChatGroq     #used to chat with LLM(access any model of groq)\n"
   ]
  },
  {
   "cell_type": "code",
   "execution_count": 4,
   "id": "bc6509bd",
   "metadata": {},
   "outputs": [
    {
     "data": {
      "text/plain": [
       "ChatGroq(client=<groq.resources.chat.completions.Completions object at 0x000002B3683828D0>, async_client=<groq.resources.chat.completions.AsyncCompletions object at 0x000002B3682C65D0>, model_name='Gemma2-9b-It', model_kwargs={}, groq_api_key=SecretStr('**********'))"
      ]
     },
     "execution_count": 4,
     "metadata": {},
     "output_type": "execute_result"
    }
   ],
   "source": [
    "model = ChatGroq(model=\"Gemma2-9b-It\")\n",
    "model"
   ]
  },
  {
   "cell_type": "code",
   "execution_count": 5,
   "id": "5fe42fe8",
   "metadata": {},
   "outputs": [
    {
     "data": {
      "text/plain": [
       "AIMessage(content='Machine learning is a type of artificial intelligence (AI) that allows computers to learn from data without being explicitly programmed. \\n\\nHere\\'s a breakdown:\\n\\n**The Basic Idea:**\\n\\nInstead of giving a computer a set of rigid rules to follow, machine learning algorithms are trained on massive datasets. They identify patterns, relationships, and insights within this data, allowing them to make predictions or decisions on new, unseen data.\\n\\n**How it Works:**\\n\\n1. **Data Collection:** Gather large amounts of relevant data. This could be anything from images and text to numerical records and sensor readings.\\n2. **Data Preparation:** Clean, organize, and transform the data into a format suitable for training the algorithm.\\n3. **Algorithm Selection:** Choose a machine learning algorithm that\\'s appropriate for the task at hand. There are many types of algorithms, each suited to different types of problems (e.g., classification, regression, clustering).\\n4. **Training:** Feed the prepared data into the algorithm. The algorithm learns by adjusting its internal parameters to minimize the difference between its predictions and the actual values in the data.\\n5. **Evaluation:** Test the trained algorithm on a separate dataset to assess its performance.\\n6. **Deployment:** Once the algorithm meets performance requirements, it can be deployed to make predictions on new data in real-world applications.\\n\\n**Types of Machine Learning:**\\n\\n* **Supervised Learning:** The algorithm is trained on labeled data (data with known inputs and outputs). It learns to map inputs to outputs. Example: Image classification (training on images labeled as \"cat\" or \"dog\").\\n* **Unsupervised Learning:** The algorithm is trained on unlabeled data and must discover patterns and structures on its own. Example: Customer segmentation (grouping customers based on their purchasing behavior).\\n* **Reinforcement Learning:** The algorithm learns by interacting with an environment and receiving rewards or penalties for its actions. Example: Training a robot to navigate a maze.\\n\\n**Examples of Machine Learning in Action:**\\n\\n* **Recommendation systems:** Netflix suggesting movies you might like.\\n* **Spam filtering:** Identifying and blocking unwanted emails.\\n* **Fraud detection:** Identifying suspicious transactions.\\n* **Medical diagnosis:** Assisting doctors in diagnosing diseases.\\n* **Self-driving cars:** Enabling vehicles to navigate roads autonomously.\\n\\n\\nLet me know if you have any other questions!\\n', additional_kwargs={}, response_metadata={'token_usage': {'completion_tokens': 490, 'prompt_tokens': 13, 'total_tokens': 503, 'completion_time': 0.890909091, 'prompt_time': 0.003363997, 'queue_time': 0.258560183, 'total_time': 0.894273088}, 'model_name': 'Gemma2-9b-It', 'system_fingerprint': 'fp_10c08bf97d', 'finish_reason': 'stop', 'logprobs': None}, id='run--6fce7bea-8113-42c0-9e82-d80378776b20-0', usage_metadata={'input_tokens': 13, 'output_tokens': 490, 'total_tokens': 503})"
      ]
     },
     "execution_count": 5,
     "metadata": {},
     "output_type": "execute_result"
    }
   ],
   "source": [
    "model.invoke(\"What is machine learning\")"
   ]
  },
  {
   "cell_type": "code",
   "execution_count": 6,
   "id": "0d833ca0",
   "metadata": {},
   "outputs": [
    {
     "data": {
      "text/plain": [
       "AIMessage(content='C programming is a general-purpose, procedural programming language known for its efficiency, portability, and low-level access to hardware. \\n\\nHere\\'s a breakdown:\\n\\n**Key Features:**\\n\\n* **Procedural:**  C programs are structured as a sequence of procedures or functions that perform specific tasks.\\n* **Compiled:** C code is translated into machine-executable instructions by a compiler before it can run. This makes it generally faster than interpreted languages.\\n* **Portability:**  With careful coding, C programs can often be compiled and run on different operating systems (like Windows, Linux, macOS) with minimal modifications.\\n* **Low-Level Access:** C allows direct interaction with hardware components, making it suitable for system programming, embedded systems, and performance-critical applications.\\n* **Rich Standard Library:**  C comes with a comprehensive standard library that provides functions for tasks like input/output, string manipulation, memory management, and more.\\n\\n**Advantages:**\\n\\n* **Efficiency:** C code is often very efficient and produces fast-running programs.\\n* **Control:**  Programmers have fine-grained control over memory management and hardware resources.\\n* **Legacy Code:** C is a mature language with a vast amount of existing code and libraries.\\n\\n**Disadvantages:**\\n\\n* **Complexity:** C can be more complex to learn and master than some higher-level languages.\\n* **Memory Management:**  Manual memory management (allocating and deallocating memory) can lead to errors if not handled carefully.\\n* **Lack of Built-in Features:** C lacks some features found in modern languages, such as garbage collection and strong typing, which can make development more tedious.\\n\\n**Common Uses:**\\n\\n* **Operating Systems:**  C is widely used in developing operating systems (e.g., Linux, Windows).\\n* **Embedded Systems:**  C is a popular choice for programming microcontrollers and other embedded devices.\\n* **System Software:**  C is used for writing device drivers, compilers, and other system-level software.\\n* **High-Performance Applications:**  C\\'s efficiency makes it suitable for applications requiring speed, such as scientific simulations and game development.\\n\\n**Learning Resources:**\\n\\n* **Books:** \"The C Programming Language\" (K&R), \"C Primer Plus\"\\n* **Online Courses:** Coursera, edX, Codecademy\\n* **Tutorials:** TutorialsPoint, W3Schools\\n\\n\\n\\nLet me know if you have any other questions about C programming!\\n', additional_kwargs={}, response_metadata={'token_usage': {'completion_tokens': 514, 'prompt_tokens': 13, 'total_tokens': 527, 'completion_time': 0.934545455, 'prompt_time': 0.001931908, 'queue_time': 0.246996902, 'total_time': 0.936477363}, 'model_name': 'Gemma2-9b-It', 'system_fingerprint': 'fp_10c08bf97d', 'finish_reason': 'stop', 'logprobs': None}, id='run--dd8efdfe-a65d-4ed9-94e2-cdb1b4e653a2-0', usage_metadata={'input_tokens': 13, 'output_tokens': 514, 'total_tokens': 527})"
      ]
     },
     "execution_count": 6,
     "metadata": {},
     "output_type": "execute_result"
    }
   ],
   "source": [
    "model.invoke(\"What is C programming\")"
   ]
  },
  {
   "cell_type": "code",
   "execution_count": null,
   "id": "d146260b",
   "metadata": {},
   "outputs": [
    {
     "data": {
      "text/plain": [
       "ChatPromptValue(messages=[SystemMessage(content='You are a standup comedian,Generate a joke on given topic', additional_kwargs={}, response_metadata={}), HumanMessage(content='topic:content=\"That\\'s a broad term!  Tell me more about what you\\'d like to know about computers. \\\\n\\\\nFor example, are you interested in:\\\\n\\\\n* **The history of computers?** \\\\n* **How computers work?**\\\\n* **Different types of computers?** (laptops, desktops, servers, etc.)\\\\n* **Specific computer programs or software?**\\\\n* **The impact of computers on society?**\\\\n* **How to use a computer?**\\\\n\\\\nThe more information you give me, the better I can help!\\\\n\" additional_kwargs={} response_metadata={\\'token_usage\\': {\\'completion_tokens\\': 117, \\'prompt_tokens\\': 11, \\'total_tokens\\': 128, \\'completion_time\\': 0.212727273, \\'prompt_time\\': 0.001917867, \\'queue_time\\': 0.24445808200000002, \\'total_time\\': 0.21464514}, \\'model_name\\': \\'Gemma2-9b-It\\', \\'system_fingerprint\\': \\'fp_10c08bf97d\\', \\'finish_reason\\': \\'stop\\', \\'logprobs\\': None} id=\\'run--388f7d48-08fc-4dc4-8e33-7237f160e89c-0\\' usage_metadata={\\'input_tokens\\': 11, \\'output_tokens\\': 117, \\'total_tokens\\': 128}', additional_kwargs={}, response_metadata={})])"
      ]
     },
     "execution_count": 9,
     "metadata": {},
     "output_type": "execute_result"
    }
   ],
   "source": [
    "from langchain_core.prompts import ChatPromptTemplate    #To perfrom a particular task(joke) ,topic\n",
    "prompt = ChatPromptTemplate(\n",
    "    [\n",
    "        (\"system\",\"You are a standup comedian,justgive me a joke on given topic\"),\n",
    "        (\"user\",\"topic:{topic}\")\n",
    "    ]\n",
    ")\n",
    "prompt.invoke(model.invoke(\"computer\"))"
   ]
  },
  {
   "cell_type": "code",
   "execution_count": null,
   "id": "f318b40f",
   "metadata": {},
   "outputs": [],
   "source": [
    "#to print output not as system message parses output o get clear text\n",
    "from langchain_core.output_parsers import StrOutputParser\n"
   ]
  },
  {
   "cell_type": "code",
   "execution_count": 12,
   "id": "bc8ba8ab",
   "metadata": {},
   "outputs": [],
   "source": [
    "output_parser = StrOutputParser()\n",
    "#chain - topic or value we're assingning(topic go throgh prompt-model-output_parser)\n",
    "chain = prompt|model|output_parser"
   ]
  },
  {
   "cell_type": "code",
   "execution_count": 13,
   "id": "69a77241",
   "metadata": {},
   "outputs": [
    {
     "data": {
      "text/plain": [
       "'You know, I tried teaching my AI assistant to write jokes. I thought, \"Hey, it can write code, it can translate languages, maybe it can make me laugh!\" Turns out, it just kept generating puns about data sets and algorithms.  Honestly, it\\'s more terrifying than funny. It\\'s like, \"What do you call a machine learning model that can\\'t tell a joke? Depressed.\"  Get it? Depressed...because it\\'s... *pauses for crickets* ...never gonna be funny. \\n\\n\\n\\n'"
      ]
     },
     "execution_count": 13,
     "metadata": {},
     "output_type": "execute_result"
    }
   ],
   "source": [
    "chain.invoke(\"Machine learning\")"
   ]
  },
  {
   "cell_type": "code",
   "execution_count": 16,
   "id": "4e46ff04",
   "metadata": {},
   "outputs": [
    {
     "data": {
      "text/plain": [
       "\"You know, I love my smartphone. It's like having a mini-computer in my pocket. Except... the only thing my mini-computer can do is remind me I have to buy milk and judge me for the memes I share.  \\n\\n\""
      ]
     },
     "execution_count": 16,
     "metadata": {},
     "output_type": "execute_result"
    }
   ],
   "source": [
    "topic = input()\n",
    "chain.invoke({\"topic\":topic})"
   ]
  },
  {
   "cell_type": "code",
   "execution_count": null,
   "id": "15aba779",
   "metadata": {},
   "outputs": [],
   "source": [
    "chain.invoke(\"hello world\")"
   ]
  },
  {
   "cell_type": "code",
   "execution_count": null,
   "id": "42c0b641",
   "metadata": {},
   "outputs": [],
   "source": []
  }
 ],
 "metadata": {
  "kernelspec": {
   "display_name": "env",
   "language": "python",
   "name": "python3"
  },
  "language_info": {
   "codemirror_mode": {
    "name": "ipython",
    "version": 3
   },
   "file_extension": ".py",
   "mimetype": "text/x-python",
   "name": "python",
   "nbconvert_exporter": "python",
   "pygments_lexer": "ipython3",
   "version": "3.11.7"
  }
 },
 "nbformat": 4,
 "nbformat_minor": 5
}
